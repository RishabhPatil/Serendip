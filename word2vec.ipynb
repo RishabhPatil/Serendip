{
 "cells": [
  {
   "cell_type": "code",
   "execution_count": 1,
   "metadata": {},
   "outputs": [],
   "source": [
    "from gensim.test.utils import common_texts, get_tmpfile\n",
    "from gensim.models import Word2Vec\n",
    "from nltk import word_tokenize, sent_tokenize\n",
    "from nltk.corpus import stopwords\n",
    "\n",
    "import os\n",
    "import nltk\n",
    "import string"
   ]
  },
  {
   "cell_type": "code",
   "execution_count": 2,
   "metadata": {},
   "outputs": [],
   "source": [
    "folder = \"/Users/niteshsarode/Downloads/Serendip word2vec/Religious_dataset/\"\n",
    "files= os.listdir(folder)\n",
    "\n",
    "stop = stopwords.words('english') + list(string.punctuation)\n",
    "\n",
    "def clean_text(text):\n",
    "    sents = []\n",
    "    sentences = sent_tokenize(text)\n",
    "    for sent in sentences:\n",
    "        words = word_tokenize(sent)\n",
    "        sent_words = [] \n",
    "        for word in words:\n",
    "            if word not in stop and word.isalpha() and len(word)>3:\n",
    "                sent_words.append(word)\n",
    "        sents.append(sent_words)\n",
    "    return sents"
   ]
  },
  {
   "cell_type": "code",
   "execution_count": 3,
   "metadata": {},
   "outputs": [],
   "source": [
    "sentences = []\n",
    "for file in files:\n",
    "    with open (folder+file, encoding=\"ISO-8859-1\") as f:\n",
    "        sentences += clean_text(f.read().lower())"
   ]
  },
  {
   "cell_type": "code",
   "execution_count": 4,
   "metadata": {},
   "outputs": [],
   "source": [
    "model = Word2Vec(sentences, min_count=1)"
   ]
  },
  {
   "cell_type": "code",
   "execution_count": 5,
   "metadata": {},
   "outputs": [
    {
     "name": "stderr",
     "output_type": "stream",
     "text": [
      "/anaconda3/lib/python3.5/site-packages/ipykernel_launcher.py:1: DeprecationWarning: Call to deprecated `most_similar` (Method will be removed in 4.0.0, use self.wv.most_similar() instead).\n",
      "  \"\"\"Entry point for launching an IPython kernel.\n"
     ]
    },
    {
     "data": {
      "text/plain": [
       "[('christ', 0.9218344688415527),\n",
       " ('tabitha', 0.8949198722839355),\n",
       " ('resurrection', 0.8852506279945374),\n",
       " ('liveth', 0.8828229904174805),\n",
       " ('virgin', 0.8703662157058716),\n",
       " ('ascension', 0.8665913343429565),\n",
       " ('whence', 0.8613969087600708),\n",
       " ('immaculately', 0.8596690893173218),\n",
       " ('elevates', 0.8534493446350098),\n",
       " ('evermore', 0.8491183519363403)]"
      ]
     },
     "execution_count": 5,
     "metadata": {},
     "output_type": "execute_result"
    }
   ],
   "source": [
    "model.most_similar([\"jesus\", \"dead\"])"
   ]
  }
 ],
 "metadata": {
  "kernelspec": {
   "display_name": "Python 3",
   "language": "python",
   "name": "python3"
  },
  "language_info": {
   "codemirror_mode": {
    "name": "ipython",
    "version": 3
   },
   "file_extension": ".py",
   "mimetype": "text/x-python",
   "name": "python",
   "nbconvert_exporter": "python",
   "pygments_lexer": "ipython3",
   "version": "3.5.0"
  }
 },
 "nbformat": 4,
 "nbformat_minor": 2
}
