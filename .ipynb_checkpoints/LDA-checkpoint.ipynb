{
 "cells": [
  {
   "cell_type": "code",
   "execution_count": 24,
   "metadata": {},
   "outputs": [],
   "source": [
    "import gensim\n",
    "from gensim.test.utils import common_texts\n",
    "from gensim.corpora.dictionary import Dictionary\n",
    "import os\n",
    "import re\n",
    "import nltk\n",
    "from nltk import word_tokenize, sent_tokenize\n",
    "from nltk.corpus import stopwords\n",
    "import string\n",
    "\n",
    "stop = stopwords.words('english') + list(string.punctuation)"
   ]
  },
  {
   "cell_type": "code",
   "execution_count": 25,
   "metadata": {
    "collapsed": true
   },
   "outputs": [],
   "source": [
    "data_folder = \"data/ReligiousTexts/\"\n",
    "files = os.listdir(data_folder)"
   ]
  },
  {
   "cell_type": "code",
   "execution_count": 26,
   "metadata": {},
   "outputs": [
    {
     "ename": "SyntaxError",
     "evalue": "invalid syntax (<ipython-input-26-3e579f26f369>, line 16)",
     "output_type": "error",
     "traceback": [
      "\u001b[1;36m  File \u001b[1;32m\"<ipython-input-26-3e579f26f369>\"\u001b[1;36m, line \u001b[1;32m16\u001b[0m\n\u001b[1;33m    sents += clean_text(f.read().lower()) )\u001b[0m\n\u001b[1;37m                                          ^\u001b[0m\n\u001b[1;31mSyntaxError\u001b[0m\u001b[1;31m:\u001b[0m invalid syntax\n"
     ]
    }
   ],
   "source": [
    "def clean_text(text):\n",
    "    sents = []\n",
    "    sentences = sent_tokenize(text)\n",
    "    for sent in sentences:\n",
    "        words = word_tokenize(sent)\n",
    "        sent_words = [] \n",
    "        for word in words:\n",
    "            if word not in stop and word.isalpha() and len(word>3):\n",
    "                sent_words.append(word)\n",
    "        sents.append(sent_words)\n",
    "    return sents\n",
    "        \n",
    "sents = []\n",
    "for file in files:\n",
    "    with open(data_folder+file,encoding=\"ISO-8859-1\") as f:\n",
    "        sents += clean_text(f.read().lower())"
   ]
  },
  {
   "cell_type": "code",
   "execution_count": 8,
   "metadata": {
    "collapsed": true
   },
   "outputs": [],
   "source": [
    "common_dictionary = Dictionary(texts)\n",
    "common_corpus = [common_dictionary.doc2bow(text) for text in texts]"
   ]
  },
  {
   "cell_type": "code",
   "execution_count": 9,
   "metadata": {
    "collapsed": true
   },
   "outputs": [],
   "source": [
    "lda = gensim.models.LdaModel(common_corpus,id2word=common_dictionary ,num_topics=150)"
   ]
  },
  {
   "cell_type": "code",
   "execution_count": 10,
   "metadata": {},
   "outputs": [
    {
     "data": {
      "text/plain": [
       "[(72, 0.7641259), (101, 0.23510802)]"
      ]
     },
     "execution_count": 10,
     "metadata": {},
     "output_type": "execute_result"
    }
   ],
   "source": [
    "lda.get_document_topics(common_dictionary.doc2bow(texts[0]))"
   ]
  },
  {
   "cell_type": "code",
   "execution_count": 13,
   "metadata": {},
   "outputs": [],
   "source": [
    "# for t in lda.get_topic_terms(72, topn=100):\n",
    "#     print(lda.id2word[t[0]],t[1],t[0])"
   ]
  },
  {
   "cell_type": "code",
   "execution_count": 23,
   "metadata": {},
   "outputs": [
    {
     "name": "stdout",
     "output_type": "stream",
     "text": [
      "0 [(72, 0.7638529), (101, 0.23538104)]\n",
      "1 [(72, 0.99968857)]\n",
      "2 [(3, 0.11925234), (50, 0.060529023), (81, 0.547961), (112, 0.01878531), (114, 0.04459516), (124, 0.0930825), (126, 0.09072271)]\n",
      "3 [(39, 0.048211783), (42, 0.070848875), (68, 0.23294333), (81, 0.4987581), (136, 0.09894859), (147, 0.014736211)]\n",
      "4 [(81, 0.99811935)]\n",
      "5 [(42, 0.44131184), (81, 0.5329123)]\n",
      "6 [(4, 0.010387154), (25, 0.019198317), (50, 0.015236385), (59, 0.81495035), (81, 0.07525856), (126, 0.05849635)]\n",
      "7 [(81, 0.025056476), (105, 0.96678454)]\n",
      "8 [(39, 0.110371254), (42, 0.18652059), (72, 0.17729418), (81, 0.13611563), (105, 0.3725189), (124, 0.01202921)]\n",
      "9 [(13, 0.15553361), (42, 0.01841621), (50, 0.024158591), (72, 0.03865001), (81, 0.42612925), (99, 0.19907753), (126, 0.12373887)]\n",
      "10 [(39, 0.010975361), (42, 0.44475654), (81, 0.35598952), (99, 0.1786199)]\n",
      "11 [(42, 0.011528565), (52, 0.016522838), (81, 0.96080846)]\n",
      "12 [(42, 0.8029138), (81, 0.19498582)]\n",
      "13 [(39, 0.027418114), (42, 0.702488), (81, 0.26328483)]\n",
      "14 [(39, 0.5488855), (50, 0.12964231), (81, 0.3082716)]\n",
      "15 [(81, 0.9968082)]\n",
      "16 [(42, 0.09645657), (52, 0.06295668), (81, 0.7829615), (105, 0.05604753)]\n",
      "17 [(39, 0.03972931), (42, 0.25022224), (81, 0.52329934), (82, 0.024335077), (99, 0.12772413), (143, 0.010531841)]\n",
      "18 [(5, 0.97980165), (72, 0.012406137)]\n",
      "19 [(42, 0.035473246), (50, 0.504251), (81, 0.44240308), (133, 0.013113496)]\n",
      "20 [(42, 0.2729542), (72, 0.034641407), (81, 0.09204951), (105, 0.54995644), (123, 0.040032666)]\n",
      "21 [(72, 0.7251735), (81, 0.274315)]\n",
      "22 [(51, 0.010000762), (72, 0.012547849), (81, 0.7821851), (105, 0.0965551), (125, 0.016935363), (126, 0.0109574525), (147, 0.06556221)]\n",
      "23 [(3, 0.15069194), (39, 0.05756006), (42, 0.022000885), (72, 0.013741577), (81, 0.20672956), (147, 0.5266627)]\n",
      "24 [(105, 0.9999388)]\n",
      "25 [(4, 0.013033854), (13, 0.02624533), (42, 0.0150319645), (59, 0.028227866), (72, 0.030000199), (81, 0.06689521), (126, 0.818151)]\n",
      "26 [(4, 0.10918405), (42, 0.010602123), (78, 0.23169792), (81, 0.020272108), (84, 0.6228071)]\n",
      "27 [(4, 0.4242468), (75, 0.12663804), (78, 0.39507747), (80, 0.03137288), (84, 0.013988711)]\n",
      "28 [(39, 0.023049079), (42, 0.07400968), (52, 0.07748945), (73, 0.07604657), (81, 0.37635478), (105, 0.07884255), (135, 0.012269119), (136, 0.23761146), (147, 0.019946495)]\n",
      "29 [(3, 0.20389782), (39, 0.14845984), (42, 0.09645374), (56, 0.053184006), (72, 0.090900466), (81, 0.26375005), (112, 0.1405042)]\n",
      "30 [(42, 0.1644678), (52, 0.102655604), (81, 0.72961915)]\n",
      "31 [(42, 0.019169854), (81, 0.5862852), (112, 0.055177674), (126, 0.3249936)]\n",
      "32 [(8, 0.13179728), (57, 0.03361011), (61, 0.12664719), (81, 0.5932861), (83, 0.08742626), (129, 0.019538052)]\n",
      "33 [(81, 0.13472825), (124, 0.6192897), (133, 0.22731832)]\n",
      "34 [(42, 0.039580457), (72, 0.019037817), (81, 0.26975033), (93, 0.027992437), (126, 0.6327408)]\n",
      "35 [(52, 0.26321888), (81, 0.48898518), (99, 0.23303232)]\n"
     ]
    }
   ],
   "source": [
    "for i in range(len(texts)):\n",
    "    print(i,lda.get_document_topics(common_dictionary.doc2bow(texts[i])))"
   ]
  }
 ],
 "metadata": {
  "kernelspec": {
   "display_name": "Python 3",
   "language": "python",
   "name": "python3"
  },
  "language_info": {
   "codemirror_mode": {
    "name": "ipython",
    "version": 3
   },
   "file_extension": ".py",
   "mimetype": "text/x-python",
   "name": "python",
   "nbconvert_exporter": "python",
   "pygments_lexer": "ipython3",
   "version": "3.6.1"
  }
 },
 "nbformat": 4,
 "nbformat_minor": 2
}
