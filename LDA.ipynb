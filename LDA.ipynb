{
 "cells": [
  {
   "cell_type": "code",
   "execution_count": 1,
   "metadata": {},
   "outputs": [
    {
     "name": "stderr",
     "output_type": "stream",
     "text": [
      "C:\\ProgramData\\Anaconda3\\lib\\site-packages\\gensim\\utils.py:1212: UserWarning: detected Windows; aliasing chunkize to chunkize_serial\n",
      "  warnings.warn(\"detected Windows; aliasing chunkize to chunkize_serial\")\n"
     ]
    }
   ],
   "source": [
    "import gensim\n",
    "from gensim.test.utils import common_texts\n",
    "from gensim.corpora.dictionary import Dictionary\n",
    "import nltk\n",
    "import os\n",
    "import re"
   ]
  },
  {
   "cell_type": "code",
   "execution_count": 2,
   "metadata": {
    "collapsed": true
   },
   "outputs": [],
   "source": [
    "data_folder = \"data/ReligiousTexts/\"\n",
    "files = os.listdir(data_folder)"
   ]
  },
  {
   "cell_type": "markdown",
   "metadata": {},
   "source": [
    "# Preprocessing"
   ]
  },
  {
   "cell_type": "code",
   "execution_count": 3,
   "metadata": {
    "collapsed": true
   },
   "outputs": [],
   "source": [
    "s = set(nltk.corpus.stopwords.words('english'))\n",
    "s.add('')"
   ]
  },
  {
   "cell_type": "code",
   "execution_count": 4,
   "metadata": {
    "collapsed": true
   },
   "outputs": [],
   "source": [
    "texts = []\n",
    "for file in files:\n",
    "    with open(data_folder+file,encoding=\"ISO-8859-1\") as f:\n",
    "        text = f.read()\n",
    "        text = re.split('[, \\.\\n]', text)\n",
    "        text = [word.lower() for word in text if word.lower() not in s and word.isalpha() and len(word)>=3]\n",
    "        texts.append(text)"
   ]
  },
  {
   "cell_type": "code",
   "execution_count": 5,
   "metadata": {
    "collapsed": true
   },
   "outputs": [],
   "source": [
    "common_dictionary = Dictionary(texts)"
   ]
  },
  {
   "cell_type": "code",
   "execution_count": 6,
   "metadata": {
    "collapsed": true
   },
   "outputs": [],
   "source": [
    "common_corpus = [common_dictionary.doc2bow(text) for text in texts]"
   ]
  },
  {
   "cell_type": "markdown",
   "metadata": {},
   "source": [
    "# Training"
   ]
  },
  {
   "cell_type": "code",
   "execution_count": 7,
   "metadata": {
    "collapsed": true
   },
   "outputs": [],
   "source": [
    "lda = gensim.models.LdaModel(common_corpus,id2word=common_dictionary ,num_topics=150)"
   ]
  },
  {
   "cell_type": "code",
   "execution_count": 8,
   "metadata": {},
   "outputs": [
    {
     "data": {
      "text/plain": [
       "[(60, 0.58024997),\n",
       " (89, 0.110668875),\n",
       " (110, 0.16520433),\n",
       " (114, 0.09007191),\n",
       " (132, 0.028796284)]"
      ]
     },
     "execution_count": 8,
     "metadata": {},
     "output_type": "execute_result"
    }
   ],
   "source": [
    "lda.get_document_topics(common_dictionary.doc2bow(texts[1]))"
   ]
  },
  {
   "cell_type": "markdown",
   "metadata": {},
   "source": [
    "# Text v/s Topic"
   ]
  },
  {
   "cell_type": "code",
   "execution_count": 9,
   "metadata": {
    "collapsed": true
   },
   "outputs": [],
   "source": [
    "matrix = [[str(0) for i in range(150)] for i in range(len(texts))]\n",
    "\n",
    "### Increase for more Radius\n",
    "factor = 1\n",
    "###\n",
    "\n",
    "for i in range(len(texts)):\n",
    "    topics = lda.get_document_topics(common_dictionary.doc2bow(texts[i]))\n",
    "    for t in topics:\n",
    "        matrix[i][t[0]] = str(t[1] * factor)"
   ]
  },
  {
   "cell_type": "code",
   "execution_count": 10,
   "metadata": {
    "collapsed": true
   },
   "outputs": [],
   "source": [
    "string = ','+','.join([str(i) for i in range(150)])\n",
    "for i in range(len(texts)):\n",
    "    string += '\\nt' + str(i) + ',' + ','.join(matrix[i])\n",
    "\n",
    "with open(\"text_topic_matrix.csv\", \"w\") as f:\n",
    "    f.write(string)"
   ]
  },
  {
   "cell_type": "markdown",
   "metadata": {},
   "source": [
    "# Word v/s Topic"
   ]
  },
  {
   "cell_type": "code",
   "execution_count": 13,
   "metadata": {
    "scrolled": true
   },
   "outputs": [
    {
     "name": "stdout",
     "output_type": "stream",
     "text": [
      "shall 0.01316667 4984\n",
      "lord 0.008954892 3425\n",
      "unto 0.007862621 5804\n",
      "god 0.007448407 2489\n",
      "man 0.0061722784 185\n",
      "one 0.0061384724 205\n",
      "thy 0.0061315214 5564\n",
      "thou 0.0058299243 5550\n",
      "said 0.0045765857 4819\n",
      "may 0.004271878 3567\n",
      "upon 0.003954074 293\n",
      "thee 0.0038661624 5506\n",
      "people 0.0037256829 4132\n",
      "even 0.003658764 2079\n",
      "son 0.0035208215 5120\n",
      "men 0.00332712 3587\n",
      "come 0.003110098 1294\n",
      "earth 0.0029538623 1890\n",
      "great 0.002933845 103\n",
      "life 0.0029165568 149\n",
      "made 0.002860935 3471\n",
      "also 0.0027512023 6\n",
      "let 0.0026462604 3315\n",
      "world 0.0026091933 310\n",
      "day 0.0025914058 1598\n",
      "therefore 0.0025703623 5529\n",
      "good 0.002555178 2500\n",
      "thus 0.0024564909 5563\n",
      "king 0.0024483558 137\n",
      "hath 0.0024437068 2603\n",
      "see 0.0023785534 244\n",
      "gods 0.0022680273 2495\n",
      "first 0.002263009 93\n",
      "israel 0.002239686 10038\n",
      "every 0.0022356699 2082\n",
      "came 0.0021196222 1113\n",
      "name 0.0020410172 3750\n",
      "things 0.0020167625 5543\n",
      "would 0.001966719 6066\n",
      "children 0.001960813 1198\n",
      "way 0.0019461004 5975\n",
      "say 0.0019188513 4855\n",
      "two 0.0019019884 290\n",
      "land 0.0018561492 3260\n",
      "place 0.001838759 4187\n",
      "words 0.0018040858 6054\n",
      "house 0.0018012584 2706\n",
      "time 0.001780368 280\n",
      "make 0.001776545 3490\n",
      "many 0.0017184154 3519\n",
      "shalt 0.00169085 4986\n",
      "word 0.0016847443 6053\n",
      "yet 0.0016573761 6120\n",
      "like 0.0016382172 3343\n",
      "hand 0.0016354709 106\n",
      "another 0.0016139044 601\n",
      "away 0.0015924168 820\n",
      "among 0.0015786687 564\n",
      "body 0.0015752125 1013\n",
      "know 0.0015690828 3204\n",
      "saith 0.0015480042 4820\n",
      "evil 0.0015249312 88\n",
      "without 0.0015176217 6034\n",
      "cause 0.0015131455 1143\n",
      "father 0.0015125497 2191\n",
      "saying 0.0015063536 4857\n",
      "knowledge 0.001490632 3206\n",
      "days 0.0014786725 1600\n",
      "death 0.0014633969 1612\n",
      "city 0.001459525 1227\n",
      "called 0.0014524143 1111\n",
      "heaven 0.0014454908 2627\n",
      "divine 0.0014440132 1804\n",
      "take 0.0014340441 5403\n",
      "forth 0.0014304658 2322\n",
      "verse 0.001402564 5896\n",
      "iii 0.00139886 2805\n",
      "must 0.0013972176 196\n",
      "given 0.0013679048 101\n",
      "put 0.0013582378 4426\n",
      "jesus 0.0013363593 10069\n",
      "behold 0.0013347679 917\n",
      "part 0.0013225122 208\n",
      "might 0.001321438 3623\n",
      "self 0.0012851974 4940\n",
      "though 0.0012849583 5551\n",
      "went 0.0012843531 5993\n",
      "according 0.001259693 392\n",
      "holy 0.0012294895 2687\n",
      "hast 0.0012037659 2595\n",
      "mind 0.0011715166 3632\n",
      "thine 0.0011553561 5541\n",
      "spirit 0.0011516049 5162\n",
      "heart 0.0011444291 2624\n",
      "soul 0.0011360573 7819\n",
      "set 0.0011360326 4966\n",
      "give 0.0011243359 2467\n",
      "whose 0.0011140545 6008\n",
      "spiritual 0.0011009218 5163\n",
      "note 0.0010975768 3874\n"
     ]
    }
   ],
   "source": [
    "for t in lda.get_topic_terms(57, topn=100):\n",
    "    print(lda.id2word[t[0]],t[1],t[0])\n",
    "# t = lda.get_topic_terms(57, topn=100)"
   ]
  },
  {
   "cell_type": "code",
   "execution_count": 27,
   "metadata": {},
   "outputs": [
    {
     "data": {
      "text/plain": [
       "79403"
      ]
     },
     "execution_count": 27,
     "metadata": {},
     "output_type": "execute_result"
    }
   ],
   "source": [
    "words = {}\n",
    "for k,v in lda.id2word.items():\n",
    "    words[v] = k\n",
    "len(words)"
   ]
  },
  {
   "cell_type": "code",
   "execution_count": 17,
   "metadata": {},
   "outputs": [],
   "source": [
    "word_dict = {}\n",
    "for topic in range(150):\n",
    "    word_list = lda.get_topic_terms(topic, topn=1000)\n",
    "    for word_tuple in word_list:\n",
    "        word_id = word_tuple[0]\n",
    "        word_score = word_tuple[1]\n",
    "        if word_id not in word_dict:\n",
    "            word_dict[word_id] = {}\n",
    "        word_dict[word_id][topic] = word_score"
   ]
  },
  {
   "cell_type": "code",
   "execution_count": 29,
   "metadata": {},
   "outputs": [
    {
     "data": {
      "text/plain": [
       "{22: 0.00018728107,\n",
       " 47: 0.00016249758,\n",
       " 48: 0.00018233189,\n",
       " 76: 0.00016599271,\n",
       " 78: 0.00016529082,\n",
       " 96: 0.00017287534,\n",
       " 106: 0.00016745522,\n",
       " 108: 0.00017928354,\n",
       " 117: 0.00016890989,\n",
       " 142: 0.00019522}"
      ]
     },
     "execution_count": 29,
     "metadata": {},
     "output_type": "execute_result"
    }
   ],
   "source": [
    "word_dict[words['interest']]"
   ]
  }
 ],
 "metadata": {
  "kernelspec": {
   "display_name": "Python 3",
   "language": "python",
   "name": "python3"
  },
  "language_info": {
   "codemirror_mode": {
    "name": "ipython",
    "version": 3
   },
   "file_extension": ".py",
   "mimetype": "text/x-python",
   "name": "python",
   "nbconvert_exporter": "python",
   "pygments_lexer": "ipython3",
   "version": "3.6.1"
  }
 },
 "nbformat": 4,
 "nbformat_minor": 2
}
