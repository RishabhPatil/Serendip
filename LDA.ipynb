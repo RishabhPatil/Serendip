{
 "cells": [
  {
   "cell_type": "code",
   "execution_count": 18,
   "metadata": {},
   "outputs": [],
   "source": [
    "import gensim\n",
    "from gensim.test.utils import common_texts\n",
    "from gensim.corpora.dictionary import Dictionary\n",
    "import os\n",
    "import re"
   ]
  },
  {
   "cell_type": "code",
   "execution_count": 8,
   "metadata": {},
   "outputs": [],
   "source": [
    "data_folder = \"data/ReligiousTexts/\"\n",
    "files = os.listdir(data_folder)"
   ]
  },
  {
   "cell_type": "code",
   "execution_count": 5,
   "metadata": {},
   "outputs": [
    {
     "data": {
      "text/plain": [
       "[['human', 'interface', 'computer'],\n",
       " ['survey', 'user', 'computer', 'system', 'response', 'time'],\n",
       " ['eps', 'user', 'interface', 'system'],\n",
       " ['system', 'human', 'system', 'eps'],\n",
       " ['user', 'response', 'time'],\n",
       " ['trees'],\n",
       " ['graph', 'trees'],\n",
       " ['graph', 'minors', 'trees'],\n",
       " ['graph', 'minors', 'survey']]"
      ]
     },
     "execution_count": 5,
     "metadata": {},
     "output_type": "execute_result"
    }
   ],
   "source": [
    "common_texts"
   ]
  },
  {
   "cell_type": "code",
   "execution_count": 28,
   "metadata": {},
   "outputs": [],
   "source": [
    "texts = []\n",
    "for file in files:\n",
    "    with open(data_folder+file,encoding=\"ISO-8859-1\") as f:\n",
    "        texts.append(   re.split('[, \\n]',f.read())  )"
   ]
  },
  {
   "cell_type": "code",
   "execution_count": 30,
   "metadata": {},
   "outputs": [],
   "source": [
    "common_dictionary = Dictionary(texts)"
   ]
  },
  {
   "cell_type": "code",
   "execution_count": 31,
   "metadata": {
    "collapsed": true
   },
   "outputs": [],
   "source": [
    "common_corpus = [common_dictionary.doc2bow(text) for text in texts]"
   ]
  },
  {
   "cell_type": "code",
   "execution_count": 45,
   "metadata": {},
   "outputs": [],
   "source": [
    "lda = gensim.models.LdaModel(common_corpus,id2word=common_dictionary ,num_topics=150)"
   ]
  },
  {
   "cell_type": "code",
   "execution_count": 46,
   "metadata": {},
   "outputs": [
    {
     "data": {
      "text/plain": [
       "[(33, 0.30530244), (75, 0.67804253), (142, 0.016398354)]"
      ]
     },
     "execution_count": 46,
     "metadata": {},
     "output_type": "execute_result"
    }
   ],
   "source": [
    "lda.get_document_topics(common_dictionary.doc2bow(texts[0]))"
   ]
  },
  {
   "cell_type": "code",
   "execution_count": 51,
   "metadata": {},
   "outputs": [
    {
     "name": "stdout",
     "output_type": "stream",
     "text": [
      " 0.09190485 0\n",
      "the 0.054985255 815\n",
      "of 0.037572064 761\n",
      "and 0.031291462 647\n",
      "is 0.011784585 733\n",
      "to 0.011747599 823\n",
      "that 0.011560172 814\n",
      "in 0.009749925 724\n",
      "a 0.0091828415 636\n",
      "be 0.006767639 654\n",
      "I 0.006432521 345\n",
      "with 0.0061803535 843\n",
      "as 0.006123986 650\n",
      "he 0.005875078 12675\n",
      "for 0.0050965482 702\n",
      "his 0.0049729915 718\n",
      "not 0.0047914954 15258\n",
      "which 0.0047436818 840\n",
      "are 0.004721928 649\n",
      "they 0.0045778984 17622\n",
      "And 0.004509206 5090\n",
      "by 0.0041300305 665\n",
      "from 0.004126268 706\n",
      "it 0.0039078356 734\n",
      "; 0.0038449296 233\n",
      "them 0.0038106556 17602\n",
      "have 0.0038074453 715\n",
      ": 0.0037534314 227\n",
      "was 0.003655175 837\n",
      "all 0.0036539645 9882\n",
      "on 0.0035051007 763\n",
      "this 0.00350335 818\n",
      "him 0.0031659685 12800\n",
      "Lord 0.002940864 6935\n",
      ". 0.0027647 56\n",
      "their 0.0025885142 17599\n",
      "The 0.0025861962 537\n",
      "shall 0.0025223768 16923\n",
      "were 0.0025078577 18473\n",
      "we 0.002468393 18447\n",
      "but 0.0024129038 664\n",
      "one 0.0023919037 764\n",
      "God 0.0023272948 6148\n",
      "unto 0.0023167033 18185\n",
      "who 0.0022345402 18489\n",
      "or 0.002106968 765\n",
      "will 0.0020667876 18504\n",
      "there 0.0020217823 17614\n",
      "upon 0.0020096335 831\n",
      "at 0.0018763219 652\n",
      "you 0.0018597967 18693\n",
      "my 0.0018226411 754\n",
      "thy 0.0017423495 17654\n",
      "said 0.0017083212 16768\n",
      "He 0.0016849757 6226\n",
      "when 0.0015757736 18477\n",
      "into 0.0015588357 13611\n",
      "an 0.0015403132 645\n",
      "so 0.0015400889 17079\n",
      "no 0.0015001677 758\n",
      "these 0.001484579 817\n",
      "thou 0.0014272995 17638\n",
      "ye 0.001387702 18681\n",
      "has 0.0013820729 714\n",
      "man 0.0013117264 748\n",
      "hath 0.0013073868 12662\n",
      "had 0.0013070623 712\n",
      "may 0.0013062344 14696\n",
      "1 0.001230154 84\n",
      "thee 0.001211268 17591\n",
      "before 0.0012096438 10301\n",
      "me 0.001202839 14702\n",
      "Â¶ 0.0011904906 101101\n",
      "- 0.0011660021 48\n",
      "other 0.0011624806 766\n",
      "any 0.0011493546 9978\n",
      "also 0.001137458 643\n",
      "out 0.0011347947 15552\n",
      "do 0.0011044913 11400\n",
      "been 0.001068916 656\n",
      "even 0.0010666879 11825\n",
      "your 0.001053516 18696\n",
      "O 0.0010365985 454\n",
      "\" 0.0010203035 23\n",
      "Israel 0.0010163799 25141\n",
      "? 0.0010015509 4815\n",
      "more 0.0009997105 14865\n",
      "those 0.0009965795 819\n",
      "being 0.0009940712 657\n",
      "would 0.0009939795 18574\n",
      "But 0.0009813892 5451\n",
      "came 0.00096868357 10570\n",
      "3 0.0009676476 125\n",
      "come 0.0009675413 10758\n",
      "if 0.0009562507 13252\n",
      "world 0.00095400366 18559\n",
      "up 0.00095283164 18195\n",
      "then 0.00091888785 17608\n",
      "against 0.0009025539 9815\n",
      "people 0.0009004175 15734\n"
     ]
    }
   ],
   "source": [
    "for t in lda.get_topic_terms(57, topn=100):\n",
    "    print(lda.id2word[t[0]],t[1],t[0])"
   ]
  }
 ],
 "metadata": {
  "kernelspec": {
   "display_name": "Python 3",
   "language": "python",
   "name": "python3"
  },
  "language_info": {
   "codemirror_mode": {
    "name": "ipython",
    "version": 3
   },
   "file_extension": ".py",
   "mimetype": "text/x-python",
   "name": "python",
   "nbconvert_exporter": "python",
   "pygments_lexer": "ipython3",
   "version": "3.6.1"
  }
 },
 "nbformat": 4,
 "nbformat_minor": 2
}
