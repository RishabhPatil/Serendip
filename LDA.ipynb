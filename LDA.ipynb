{
 "cells": [
  {
   "cell_type": "code",
   "execution_count": 28,
   "metadata": {},
   "outputs": [],
   "source": [
    "import gensim\n",
    "from gensim.test.utils import common_texts\n",
    "from gensim.corpora.dictionary import Dictionary\n",
    "import os\n",
    "import re\n",
    "import nltk\n",
    "from nltk import word_tokenize, sent_tokenize\n",
    "from nltk.corpus import stopwords\n",
    "import string\n",
    "\n",
    "stop = stopwords.words('english') + list(string.punctuation)"
   ]
  },
  {
   "cell_type": "code",
   "execution_count": 29,
   "metadata": {
    "collapsed": true
   },
   "outputs": [],
   "source": [
    "data_folder = \"data/ReligiousTexts/\"\n",
    "files = os.listdir(data_folder)"
   ]
  },
  {
   "cell_type": "code",
   "execution_count": 31,
   "metadata": {},
   "outputs": [],
   "source": [
    "def clean_text(text):\n",
    "    sents = []\n",
    "    sentences = sent_tokenize(text)\n",
    "    for sent in sentences:\n",
    "        words = word_tokenize(sent)\n",
    "        sent_words = [] \n",
    "        for word in words:\n",
    "            if word not in stop and word.isalpha() and len(word)>3:\n",
    "                sent_words.append(word)\n",
    "        sents.append(sent_words)\n",
    "    return sents\n",
    "        \n",
    "sents = []\n",
    "for file in files:\n",
    "    with open(data_folder+file,encoding=\"ISO-8859-1\") as f:\n",
    "        sents += clean_text(f.read().lower())"
   ]
  },
  {
   "cell_type": "code",
   "execution_count": 39,
   "metadata": {
    "collapsed": true
   },
   "outputs": [],
   "source": [
    "common_dictionary = Dictionary(sents)\n",
    "common_corpus = [common_dictionary.doc2bow(text) for text in sents]"
   ]
  },
  {
   "cell_type": "code",
   "execution_count": 45,
   "metadata": {},
   "outputs": [],
   "source": [
    "lda = gensim.models.LdaModel(common_corpus,id2word=common_dictionary ,num_topics=30)"
   ]
  },
  {
   "cell_type": "code",
   "execution_count": 46,
   "metadata": {},
   "outputs": [
    {
     "name": "stdout",
     "output_type": "stream",
     "text": [
      "['laughable', 'stories', 'collected']\n"
     ]
    },
    {
     "data": {
      "text/plain": [
       "[(10, 0.06888889),\n",
       " (12, 0.06888889),\n",
       " (16, 0.068888895),\n",
       " (17, 0.4688889),\n",
       " (20, 0.20222221),\n",
       " (25, 0.06888889)]"
      ]
     },
     "execution_count": 46,
     "metadata": {},
     "output_type": "execute_result"
    }
   ],
   "source": [
    "print(sents[4])\n",
    "lda.get_document_topics(common_dictionary.doc2bow(sents[0]))"
   ]
  },
  {
   "cell_type": "code",
   "execution_count": 47,
   "metadata": {},
   "outputs": [
    {
     "name": "stdout",
     "output_type": "stream",
     "text": [
      "must 0.06300893 227\n",
      "verse 0.051203456 2691\n",
      "works 0.04658449 808\n",
      "object 0.042710353 2321\n",
      "view 0.042061675 535\n",
      "case 0.040343214 2\n",
      "meaning 0.032654304 1229\n",
      "consciousness 0.032395262 6016\n",
      "word 0.03223322 709\n",
      "another 0.029717123 672\n",
      "follows 0.023940617 1064\n",
      "desire 0.022404723 3271\n",
      "others 0.021321632 1057\n",
      "rest 0.016872765 637\n",
      "parts 0.013461753 1065\n",
      "rather 0.01152361 1490\n",
      "distinction 0.010431765 3310\n",
      "however 0.009285379 413\n",
      "worship 0.009251232 1611\n",
      "sûtra 0.008723995 78030\n",
      "depends 0.0072911154 10720\n",
      "greater 0.006720978 1573\n",
      "quoted 0.006504991 2926\n",
      "members 0.0061430247 5424\n",
      "reasoning 0.005849436 8171\n",
      "conditions 0.005840492 8552\n",
      "essentially 0.005029902 6944\n",
      "single 0.0048367204 2736\n",
      "short 0.0046855435 2322\n",
      "depend 0.004583881 7209\n",
      "wrong 0.0044618053 4838\n",
      "probably 0.0044489256 888\n",
      "remembrance 0.0042355917 1889\n",
      "brings 0.0041811652 6202\n",
      "keep 0.0040738205 1885\n",
      "exalted 0.004066757 2339\n",
      "translate 0.0040056193 3439\n",
      "divinity 0.0039148233 5422\n",
      "treasure 0.0036165663 3712\n",
      "electronic 0.0035975175 5977\n",
      "insight 0.003480017 7501\n",
      "birds 0.0034206295 2324\n",
      "enjoin 0.0033806905 17580\n",
      "destroy 0.0031280564 1280\n",
      "pischel 0.0031202687 36131\n",
      "inward 0.003081654 3328\n",
      "important 0.0030396953 437\n",
      "forbidden 0.0030363237 8166\n",
      "round 0.0030059793 4399\n",
      "rejoice 0.0028218206 1888\n",
      "manifested 0.002812294 12892\n",
      "worldly 0.0027818354 6147\n",
      "producing 0.0027813402 18127\n",
      "care 0.0027594252 5120\n",
      "qualification 0.0027565088 27092\n",
      "sections 0.0026618275 168\n",
      "opinion 0.002652071 7984\n",
      "agents 0.00264931 5391\n",
      "almost 0.0025967169 2805\n",
      "sole 0.0025882246 5645\n",
      "description 0.0025266767 680\n",
      "stories 0.0024903778 24\n",
      "completely 0.0024651322 1358\n",
      "removed 0.0024566785 3638\n",
      "changed 0.0024151353 3173\n",
      "gift 0.0023675673 2326\n",
      "building 0.0022560435 1816\n",
      "suggested 0.002254127 638\n",
      "kuhn 0.0022185387 36130\n",
      "muni 0.002144284 10061\n",
      "teachers 0.002077266 8172\n",
      "medium 0.002067471 17324\n",
      "primâ 0.00205411 78070\n",
      "praises 0.0020275963 13938\n",
      "motive 0.0019591923 9299\n",
      "consist 0.0019221788 2649\n",
      "picture 0.0019204417 3781\n",
      "profit 0.0019038841 12801\n",
      "pûrvapakshin 0.0018794694 78127\n",
      "perishable 0.0018604611 7058\n",
      "confirms 0.0018105181 4379\n",
      "passions 0.0017184028 13631\n",
      "bhikkhu 0.0015995142 36443\n",
      "invariably 0.0015883556 7154\n",
      "glad 0.0015826838 3143\n",
      "bhikkhus 0.0015636127 36264\n",
      "nescience 0.0014908783 70081\n",
      "stanzas 0.0014902833 2783\n",
      "friendship 0.0014787227 4783\n",
      "http 0.0014771533 5979\n",
      "beitrage 0.0013992706 2100\n",
      "answered 0.001349466 2897\n",
      "accusative 0.0013267657 4887\n",
      "collected 0.001322754 22\n",
      "adoration 0.0012983328 8051\n",
      "prosperity 0.0012826124 1887\n",
      "separateness 0.0012810271 78849\n",
      "lust 0.0012481305 12477\n",
      "treating 0.0012385603 2810\n",
      "illustrate 0.0012373658 12102\n"
     ]
    }
   ],
   "source": [
    "for t in lda.get_topic_terms(17, topn=100):\n",
    "    print(lda.id2word[t[0]],t[1],t[0])"
   ]
  },
  {
   "cell_type": "code",
   "execution_count": 23,
   "metadata": {},
   "outputs": [
    {
     "name": "stdout",
     "output_type": "stream",
     "text": [
      "0 [(72, 0.7638529), (101, 0.23538104)]\n",
      "1 [(72, 0.99968857)]\n",
      "2 [(3, 0.11925234), (50, 0.060529023), (81, 0.547961), (112, 0.01878531), (114, 0.04459516), (124, 0.0930825), (126, 0.09072271)]\n",
      "3 [(39, 0.048211783), (42, 0.070848875), (68, 0.23294333), (81, 0.4987581), (136, 0.09894859), (147, 0.014736211)]\n",
      "4 [(81, 0.99811935)]\n",
      "5 [(42, 0.44131184), (81, 0.5329123)]\n",
      "6 [(4, 0.010387154), (25, 0.019198317), (50, 0.015236385), (59, 0.81495035), (81, 0.07525856), (126, 0.05849635)]\n",
      "7 [(81, 0.025056476), (105, 0.96678454)]\n",
      "8 [(39, 0.110371254), (42, 0.18652059), (72, 0.17729418), (81, 0.13611563), (105, 0.3725189), (124, 0.01202921)]\n",
      "9 [(13, 0.15553361), (42, 0.01841621), (50, 0.024158591), (72, 0.03865001), (81, 0.42612925), (99, 0.19907753), (126, 0.12373887)]\n",
      "10 [(39, 0.010975361), (42, 0.44475654), (81, 0.35598952), (99, 0.1786199)]\n",
      "11 [(42, 0.011528565), (52, 0.016522838), (81, 0.96080846)]\n",
      "12 [(42, 0.8029138), (81, 0.19498582)]\n",
      "13 [(39, 0.027418114), (42, 0.702488), (81, 0.26328483)]\n",
      "14 [(39, 0.5488855), (50, 0.12964231), (81, 0.3082716)]\n",
      "15 [(81, 0.9968082)]\n",
      "16 [(42, 0.09645657), (52, 0.06295668), (81, 0.7829615), (105, 0.05604753)]\n",
      "17 [(39, 0.03972931), (42, 0.25022224), (81, 0.52329934), (82, 0.024335077), (99, 0.12772413), (143, 0.010531841)]\n",
      "18 [(5, 0.97980165), (72, 0.012406137)]\n",
      "19 [(42, 0.035473246), (50, 0.504251), (81, 0.44240308), (133, 0.013113496)]\n",
      "20 [(42, 0.2729542), (72, 0.034641407), (81, 0.09204951), (105, 0.54995644), (123, 0.040032666)]\n",
      "21 [(72, 0.7251735), (81, 0.274315)]\n",
      "22 [(51, 0.010000762), (72, 0.012547849), (81, 0.7821851), (105, 0.0965551), (125, 0.016935363), (126, 0.0109574525), (147, 0.06556221)]\n",
      "23 [(3, 0.15069194), (39, 0.05756006), (42, 0.022000885), (72, 0.013741577), (81, 0.20672956), (147, 0.5266627)]\n",
      "24 [(105, 0.9999388)]\n",
      "25 [(4, 0.013033854), (13, 0.02624533), (42, 0.0150319645), (59, 0.028227866), (72, 0.030000199), (81, 0.06689521), (126, 0.818151)]\n",
      "26 [(4, 0.10918405), (42, 0.010602123), (78, 0.23169792), (81, 0.020272108), (84, 0.6228071)]\n",
      "27 [(4, 0.4242468), (75, 0.12663804), (78, 0.39507747), (80, 0.03137288), (84, 0.013988711)]\n",
      "28 [(39, 0.023049079), (42, 0.07400968), (52, 0.07748945), (73, 0.07604657), (81, 0.37635478), (105, 0.07884255), (135, 0.012269119), (136, 0.23761146), (147, 0.019946495)]\n",
      "29 [(3, 0.20389782), (39, 0.14845984), (42, 0.09645374), (56, 0.053184006), (72, 0.090900466), (81, 0.26375005), (112, 0.1405042)]\n",
      "30 [(42, 0.1644678), (52, 0.102655604), (81, 0.72961915)]\n",
      "31 [(42, 0.019169854), (81, 0.5862852), (112, 0.055177674), (126, 0.3249936)]\n",
      "32 [(8, 0.13179728), (57, 0.03361011), (61, 0.12664719), (81, 0.5932861), (83, 0.08742626), (129, 0.019538052)]\n",
      "33 [(81, 0.13472825), (124, 0.6192897), (133, 0.22731832)]\n",
      "34 [(42, 0.039580457), (72, 0.019037817), (81, 0.26975033), (93, 0.027992437), (126, 0.6327408)]\n",
      "35 [(52, 0.26321888), (81, 0.48898518), (99, 0.23303232)]\n"
     ]
    }
   ],
   "source": [
    "for i in range(len(texts)):\n",
    "    print(i,lda.get_document_topics(common_dictionary.doc2bow(texts[i])))"
   ]
  }
 ],
 "metadata": {
  "kernelspec": {
   "display_name": "Python 3",
   "language": "python",
   "name": "python3"
  },
  "language_info": {
   "codemirror_mode": {
    "name": "ipython",
    "version": 3
   },
   "file_extension": ".py",
   "mimetype": "text/x-python",
   "name": "python",
   "nbconvert_exporter": "python",
   "pygments_lexer": "ipython3",
   "version": "3.6.1"
  }
 },
 "nbformat": 4,
 "nbformat_minor": 2
}
